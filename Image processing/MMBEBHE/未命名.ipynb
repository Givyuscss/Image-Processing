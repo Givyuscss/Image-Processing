{
 "cells": [
  {
   "cell_type": "code",
   "execution_count": 10,
   "metadata": {},
   "outputs": [],
   "source": [
    "import cv2\n",
    "import matplotlib.pyplot as plt\n",
    "import numpy as np\n",
    "\n",
    "image = cv2.imread('cat.jpg')\n",
    "\n",
    "gray_image = 1/3 * image[:,:,0] + 1/3 * image[:,:,1] + 1/3 * image[:,:,2]\n",
    "\n",
    "m,n = gray_image.shape\n",
    "gray_image = gray_image.astype('uint8')\n",
    "\n",
    "MAX = np.max(gray_image)\n",
    "MIN = np.min(gray_image)\n",
    "\n",
    "e = list(range(256))\n",
    "AMBE = np.zeros(256)\n",
    "images = []\n",
    "for i in range(256):\n",
    "    if i <= MIN or i >= MAX:\n",
    "        images.append(gray_image)\n",
    "        AMBE[i] = 255\n",
    "        continue\n",
    "    sub1 = []\n",
    "    sub2 = []\n",
    "    c1 = 0\n",
    "    c2 = 0\n",
    "    for j in range(256):\n",
    "        if j < e[i]:\n",
    "            sub1.append(np.sum(np.where(gray_image==j,1,0)))\n",
    "        else:\n",
    "            sub2.append(np.sum(np.where(gray_image==j,1,0)))\n",
    "    if np.sum(sub1) != 0 and np.sum(sub2) != 0 :\n",
    "        c1 = np.cumsum(sub1) / np.sum(sub1)\n",
    "        c2 = np.cumsum(sub2) / np.sum(sub2)\n",
    "        LUT1 = np.round(c1 * e[i])\n",
    "        LUT2 = np.round(c2 * (255 - e[i]) + e[i])\n",
    "        new_image = np.zeros(m * n)\n",
    "        for k in range(n * m):\n",
    "            if gray_image.ravel()[k] < e[i]:\n",
    "                new_image[k] = LUT1[gray_image.ravel()[k]]\n",
    "            else:\n",
    "                new_image[k] = LUT2[gray_image.ravel()[k] - e[i] - 1]\n",
    "        images.append(new_image)\n",
    "        AMBE[i] = (np.abs((MAX-MIN-np.max(new_image)+np.min(new_image))))\n",
    "    else:\n",
    "        images.append(gray_image)\n",
    "        AMBE[i] = 255\n",
    "\n",
    "best = np.argsort(AMBE)[0]\n",
    "\n"
   ]
  },
  {
   "cell_type": "code",
   "execution_count": 11,
   "metadata": {},
   "outputs": [
    {
     "name": "stdout",
     "output_type": "stream",
     "text": [
      "88 16\n",
      "21\n",
      "[255. 255. 255. 255. 255. 255. 255. 255. 255. 255. 255. 255. 255. 255.\n",
      " 255. 255. 255. 166. 165. 164. 163. 162. 172. 171. 171. 178. 178. 179.\n",
      " 181. 181. 181. 182. 182. 182. 182. 183. 183. 183. 183. 183. 183. 183.\n",
      " 183. 183. 183. 183. 183. 183. 183. 183. 183. 183. 183. 183. 183. 183.\n",
      " 183. 183. 183. 183. 183. 183. 183. 183. 183. 183. 183. 183. 183. 183.\n",
      " 183. 183. 183. 183. 183. 183. 183. 183. 183. 183. 183. 183. 183. 183.\n",
      " 183. 183. 183. 183. 255. 255. 255. 255. 255. 255. 255. 255. 255. 255.\n",
      " 255. 255. 255. 255. 255. 255. 255. 255. 255. 255. 255. 255. 255. 255.\n",
      " 255. 255. 255. 255. 255. 255. 255. 255. 255. 255. 255. 255. 255. 255.\n",
      " 255. 255. 255. 255. 255. 255. 255. 255. 255. 255. 255. 255. 255. 255.\n",
      " 255. 255. 255. 255. 255. 255. 255. 255. 255. 255. 255. 255. 255. 255.\n",
      " 255. 255. 255. 255. 255. 255. 255. 255. 255. 255. 255. 255. 255. 255.\n",
      " 255. 255. 255. 255. 255. 255. 255. 255. 255. 255. 255. 255. 255. 255.\n",
      " 255. 255. 255. 255. 255. 255. 255. 255. 255. 255. 255. 255. 255. 255.\n",
      " 255. 255. 255. 255. 255. 255. 255. 255. 255. 255. 255. 255. 255. 255.\n",
      " 255. 255. 255. 255. 255. 255. 255. 255. 255. 255. 255. 255. 255. 255.\n",
      " 255. 255. 255. 255. 255. 255. 255. 255. 255. 255. 255. 255. 255. 255.\n",
      " 255. 255. 255. 255. 255. 255. 255. 255. 255. 255. 255. 255. 255. 255.\n",
      " 255. 255. 255. 255.]\n"
     ]
    },
    {
     "data": {
      "text/plain": [
       "True"
      ]
     },
     "execution_count": 11,
     "metadata": {},
     "output_type": "execute_result"
    }
   ],
   "source": [
    "print(MAX,MIN)\n",
    "print(best)\n",
    "print(AMBE)\n",
    "cv2.imwrite('img.jpg',images[32].reshape(m,n).astype('uint8'))\n"
   ]
  },
  {
   "cell_type": "code",
   "execution_count": 1,
   "metadata": {},
   "outputs": [
    {
     "ename": "NameError",
     "evalue": "name 'cv2' is not defined",
     "output_type": "error",
     "traceback": [
      "\u001b[0;31m---------------------------------------------------------------------------\u001b[0m",
      "\u001b[0;31mNameError\u001b[0m                                 Traceback (most recent call last)",
      "\u001b[0;32m<ipython-input-1-2657195b8723>\u001b[0m in \u001b[0;36m<module>\u001b[0;34m\u001b[0m\n\u001b[0;32m----> 1\u001b[0;31m \u001b[0mcv2\u001b[0m\u001b[0;34m.\u001b[0m\u001b[0mimwrite\u001b[0m\u001b[0;34m(\u001b[0m\u001b[0;34m'res_cat.jpg'\u001b[0m\u001b[0;34m,\u001b[0m\u001b[0mimages\u001b[0m\u001b[0;34m[\u001b[0m\u001b[0mbest\u001b[0m\u001b[0;34m]\u001b[0m\u001b[0;34m.\u001b[0m\u001b[0mreshape\u001b[0m\u001b[0;34m(\u001b[0m\u001b[0mm\u001b[0m\u001b[0;34m,\u001b[0m\u001b[0mn\u001b[0m\u001b[0;34m)\u001b[0m\u001b[0;34m.\u001b[0m\u001b[0mastype\u001b[0m\u001b[0;34m(\u001b[0m\u001b[0;34m'uint8'\u001b[0m\u001b[0;34m)\u001b[0m\u001b[0;34m)\u001b[0m\u001b[0;34m\u001b[0m\u001b[0;34m\u001b[0m\u001b[0m\n\u001b[0m\u001b[1;32m      2\u001b[0m \u001b[0;34m\u001b[0m\u001b[0m\n\u001b[1;32m      3\u001b[0m \u001b[0mfig\u001b[0m \u001b[0;34m=\u001b[0m \u001b[0mplt\u001b[0m\u001b[0;34m.\u001b[0m\u001b[0mfigure\u001b[0m\u001b[0;34m(\u001b[0m\u001b[0;34m)\u001b[0m\u001b[0;34m\u001b[0m\u001b[0;34m\u001b[0m\u001b[0m\n\u001b[1;32m      4\u001b[0m \u001b[0mfig\u001b[0m\u001b[0;34m.\u001b[0m\u001b[0madd_subplot\u001b[0m\u001b[0;34m(\u001b[0m\u001b[0;36m121\u001b[0m\u001b[0;34m)\u001b[0m\u001b[0;34m\u001b[0m\u001b[0;34m\u001b[0m\u001b[0m\n\u001b[1;32m      5\u001b[0m \u001b[0mplt\u001b[0m\u001b[0;34m.\u001b[0m\u001b[0mhist\u001b[0m\u001b[0;34m(\u001b[0m\u001b[0mgray_image\u001b[0m\u001b[0;34m.\u001b[0m\u001b[0mravel\u001b[0m\u001b[0;34m(\u001b[0m\u001b[0;34m)\u001b[0m\u001b[0;34m,\u001b[0m\u001b[0;36m256\u001b[0m\u001b[0;34m)\u001b[0m\u001b[0;34m\u001b[0m\u001b[0;34m\u001b[0m\u001b[0m\n",
      "\u001b[0;31mNameError\u001b[0m: name 'cv2' is not defined"
     ]
    }
   ],
   "source": [
    "cv2.imwrite('res_cat.jpg',images[best].reshape(m,n).astype('uint8'))\n",
    "\n",
    "fig = plt.figure()\n",
    "fig.add_subplot(121)\n",
    "plt.hist(gray_image.ravel(),256)\n",
    "fig.add_subplot(122)\n",
    "plt.hist(images[best].ravel(),256)\n",
    "plt.show()\n"
   ]
  }
 ],
 "metadata": {
  "kernelspec": {
   "display_name": "Python 3",
   "language": "python",
   "name": "python3"
  },
  "language_info": {
   "codemirror_mode": {
    "name": "ipython",
    "version": 3
   },
   "file_extension": ".py",
   "mimetype": "text/x-python",
   "name": "python",
   "nbconvert_exporter": "python",
   "pygments_lexer": "ipython3",
   "version": "3.6.9"
  }
 },
 "nbformat": 4,
 "nbformat_minor": 2
}
