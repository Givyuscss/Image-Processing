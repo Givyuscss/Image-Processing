{
 "cells": [
  {
   "cell_type": "code",
   "execution_count": 2,
   "metadata": {},
   "outputs": [
    {
     "ename": "AttributeError",
     "evalue": "module 'pywt' has no attribute 'wavedec2'",
     "output_type": "error",
     "traceback": [
      "\u001b[0;31m---------------------------------------------------------------------------\u001b[0m",
      "\u001b[0;31mAttributeError\u001b[0m                            Traceback (most recent call last)",
      "\u001b[0;32m<ipython-input-2-dda36df3efc3>\u001b[0m in \u001b[0;36m<module>\u001b[0;34m\u001b[0m\n\u001b[1;32m     10\u001b[0m \u001b[0mgray_image\u001b[0m \u001b[0;34m=\u001b[0m \u001b[0mgray_image\u001b[0m\u001b[0;34m.\u001b[0m\u001b[0mastype\u001b[0m\u001b[0;34m(\u001b[0m\u001b[0;34m'uint8'\u001b[0m\u001b[0;34m)\u001b[0m\u001b[0;34m\u001b[0m\u001b[0;34m\u001b[0m\u001b[0m\n\u001b[1;32m     11\u001b[0m \u001b[0;34m\u001b[0m\u001b[0m\n\u001b[0;32m---> 12\u001b[0;31m \u001b[0mcoeffs\u001b[0m \u001b[0;34m=\u001b[0m \u001b[0mpywt\u001b[0m\u001b[0;34m.\u001b[0m\u001b[0mwavedec2\u001b[0m\u001b[0;34m(\u001b[0m\u001b[0mgray_image\u001b[0m\u001b[0;34m,\u001b[0m \u001b[0;34m'haar'\u001b[0m\u001b[0;34m)\u001b[0m\u001b[0;34m\u001b[0m\u001b[0;34m\u001b[0m\u001b[0m\n\u001b[0m\u001b[1;32m     13\u001b[0m \u001b[0mcA\u001b[0m\u001b[0;34m,\u001b[0m \u001b[0;34m(\u001b[0m\u001b[0mcH\u001b[0m\u001b[0;34m,\u001b[0m \u001b[0mcV\u001b[0m\u001b[0;34m,\u001b[0m \u001b[0mcD\u001b[0m\u001b[0;34m)\u001b[0m \u001b[0;34m=\u001b[0m \u001b[0mcoeffs\u001b[0m\u001b[0;34m\u001b[0m\u001b[0;34m\u001b[0m\u001b[0m\n\u001b[1;32m     14\u001b[0m \u001b[0;34m\u001b[0m\u001b[0m\n",
      "\u001b[0;31mAttributeError\u001b[0m: module 'pywt' has no attribute 'wavedec2'"
     ]
    }
   ],
   "source": [
    "import numpy as np\n",
    "import pywt\n",
    "import cv2\n",
    "import matplotlib.pyplot as plt\n",
    "\n",
    "image = cv2.imread('cat.jpg')\n",
    "\n",
    "gray_image = 1/3 * image[:,:,0] + 1/3 * image[:,:,1] + 1/3 * image[:,:,2]\n",
    "m,n = gray_image.shape\n",
    "gray_image = gray_image.astype('uint8')\n",
    "\n",
    "coeffs = pywt.wavedec2(gray_image, 'haar')\n",
    "cA, (cH, cV, cD) = coeffs\n",
    "\n",
    "# 将各个子图进行拼接，最后得到一张图\n"
   ]
  },
  {
   "cell_type": "code",
   "execution_count": null,
   "metadata": {},
   "outputs": [],
   "source": [
    "AH = np.concatenate([cA, cH], axis=1)\n",
    "VD = np.concatenate([cV, cD], axis=1)\n",
    "img = np.concatenate([AH, VD], axis=0)\n",
    "\n",
    "# 显示为灰度图\n",
    "plt.imshow(img,'gray')\n",
    "plt.title('result')\n",
    "plt.show()"
   ]
  }
 ],
 "metadata": {
  "kernelspec": {
   "display_name": "Python 3",
   "language": "python",
   "name": "python3"
  },
  "language_info": {
   "codemirror_mode": {
    "name": "ipython",
    "version": 3
   },
   "file_extension": ".py",
   "mimetype": "text/x-python",
   "name": "python",
   "nbconvert_exporter": "python",
   "pygments_lexer": "ipython3",
   "version": "3.6.9"
  },
  "pycharm": {
   "stem_cell": {
    "cell_type": "raw",
    "metadata": {
     "collapsed": false
    },
    "source": [
     "import numpy as np\n",
     "import pywt\n",
     "import cv2\n",
     "import matplotlib.pyplot as plt\n",
     "\n",
     "image = cv2.imread('cat.jpg')\n",
     "\n",
     "gray_image = 1/3 * image[:,:,0] + 1/3 * image[:,:,1] + 1/3 * image[:,:,2]\n",
     "m,n = gray_image.shape\n",
     "gr\n",
     "ay_image = gray_image.astype('uint8')\n",
     "\n",
     "plt.figure('二维小波一级变换')\n",
     "coeffs = pywt.dwt2(gray_image, 'haar')\n",
     "cA, (cH, cV, cD) = coeffs\n",
     "\n",
     "\n",
     "# 将各个子图进行拼接，最后得到一张图\n",
     "AH = np.concatenate([cA, cH], axis=1)\n",
     "VD = np.concatenate([cV, cD], axis=1)\n",
     "img = np.concatenate([AH, VD], axis=0)\n",
     "\n",
     "# 显示为灰度图\n",
     "plt.imshow(img,'gray')\n",
     "plt.title('result')\n",
     "plt.show()\n",
     "\n"
    ]
   }
  }
 },
 "nbformat": 4,
 "nbformat_minor": 1
}
